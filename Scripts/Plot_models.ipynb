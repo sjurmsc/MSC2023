{
 "cells": [
  {
   "cell_type": "code",
   "execution_count": 1,
   "metadata": {},
   "outputs": [],
   "source": [
    "from Scripts.Architectures import *\n",
    "from keras.utils.vis_utils import plot_model\n",
    "\n",
    "# Model\n",
    "model, encoder, model_bare = ensemble_CNN_model(n_members=1, latent_features=16, dec='ann', reconstruct=True)\n",
    "# Plot model\n",
    "# plot_model(model, to_file='model_encoder_unwrapped.png', show_shapes=True, show_layer_names=True, expand_nested=True, layer_range=None, dpi=300)\n",
    "# plot_model(model, to_file='decoder.png', show_shapes=True, show_layer_names=True, expand_nested=True, layer_range=['ANN_decoder', 'ANN_decoder'], dpi=300)\n",
    "plot_model(model, to_file='encoder.png', show_shapes=True, show_layer_names=True, expand_nested=True, layer_range=['CNN_pyramidal_encoder', 'CNN_pyramidal_encoder'], dpi=300)\n",
    "# plot_model(model, to_file='autodecoder.png', show_shapes=True, show_layer_names=True, expand_nested=True, layer_range=['Reconstruction', 'Reconstruction'], dpi=300)\n",
    "del model, encoder, model_bare"
   ]
  }
 ],
 "metadata": {
  "kernelspec": {
   "display_name": "msc2023",
   "language": "python",
   "name": "python3"
  },
  "language_info": {
   "codemirror_mode": {
    "name": "ipython",
    "version": 3
   },
   "file_extension": ".py",
   "mimetype": "text/x-python",
   "name": "python",
   "nbconvert_exporter": "python",
   "pygments_lexer": "ipython3",
   "version": "3.10.6"
  },
  "orig_nbformat": 4
 },
 "nbformat": 4,
 "nbformat_minor": 2
}
